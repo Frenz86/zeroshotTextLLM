{
 "cells": [
  {
   "cell_type": "markdown",
   "id": "10554ce3",
   "metadata": {},
   "source": [
    "# Topic Modeling with LDA"
   ]
  },
  {
   "cell_type": "markdown",
   "id": "331980f6",
   "metadata": {},
   "source": [
    "Latent Dirichlet Allocation (LDA) è un metodo di apprendimento non supervisionato (unsupervised). In termini semplici, ciò significa che LDA non richiede etichette o annotazioni per i dati di input durante il processo di addestramento.\n",
    "\n",
    "## Caratteristiche di LDA come metodo non supervisionato:\n",
    "- Scoperta di Temi Latenti:\n",
    "LDA cerca di scoprire temi latenti (argomenti) all'interno di un insieme di documenti senza sapere in anticipo quali siano questi temi. Non c'è bisogno di fornire esempi di quali parole appartengono a quali argomenti.\n",
    "\n",
    "- Distribuzione delle Parole e dei Documenti:\n",
    "LDA assume che i documenti siano generati da una miscela di argomenti, dove ogni argomento è una distribuzione di parole. Il modello cerca di inferire queste distribuzioni direttamente dai dati.\n",
    "\n",
    "- Inferenza Bayesiana:\n",
    "Utilizza tecniche di inferenza bayesiana per stimare le distribuzioni degli argomenti e delle parole. Questo processo è guidato dai dati stessi piuttosto che da etichette predefinite.\n",
    "\n",
    "## Vantaggi di un Metodo Non Supervisionato come LDA:\n",
    "- Nessun Bisogno di Annotazione Manuale:\n",
    "Non è necessario etichettare manualmente i dati, il che può essere un compito dispendioso in termini di tempo e risorse, specialmente per grandi collezioni di testi.\n",
    "\n",
    "- Scoperta Automatica di Strutture:\n",
    "LDA può trovare strutture e pattern nei dati che potrebbero non essere evidenti o che non erano stati precedentemente considerati.\n",
    "\n",
    "## Confronto con Metodi Supervisionati:\n",
    "- Metodi Supervisionati:\n",
    "Richiedono dati etichettati per addestrare un modello. Ad esempio, un classificatore di sentimenti potrebbe essere addestrato su un insieme di recensioni etichettate come \"positive\" o \"negative\".\n",
    "\n",
    "- Metodi Non Supervisionati:\n",
    "Come LDA, lavorano senza etichette predefinite. Sono usati per scoprire pattern nascosti nei dati, come argomenti nei documenti, cluster in insiemi di dati, ecc.\n",
    "\n",
    "## Esempio di Applicazione:\n",
    "Supponiamo di avere un insieme di articoli di giornale. Utilizzando LDA, possiamo scoprire automaticamente che ci sono argomenti come politica, sport, economia, ecc., senza bisogno di etichettare manualmente gli articoli. LDA raggrupperà le parole e i documenti in base alla co-occorrenza delle parole nei testi, permettendoci di capire meglio i temi principali trattati negli articoli.\n",
    "\n",
    "In sintesi, LDA è un potente strumento di analisi non supervisionata che permette di esplorare e comprendere grandi collezioni di testi senza necessità di etichettature manuali."
   ]
  },
  {
   "cell_type": "markdown",
   "id": "002b62ad",
   "metadata": {},
   "source": [
    "### Funzionamento:\n",
    "\n",
    "Step 1: Ogni documento è associato a una distribuzione di argomenti (θ). Questa distribuzione viene estratta da una distribuzione Dirichlet.\n",
    "Step 2: Ogni argomento è una distribuzione di parole (β), anch'essa estratta da una distribuzione Dirichlet.\n",
    "Step 3: Per ogni parola in un documento, si sceglie un argomento secondo la distribuzione θ del documento.\n",
    "Step 4: Data la scelta dell'argomento, si sceglie una parola da quella distribuzione di parole β dell'argomento scelto.\n",
    "\n",
    "### Inferenza:\n",
    "\n",
    "Dato un insieme di documenti, l'obiettivo è risalire a θ e β, ossia determinare quali argomenti sono presenti e quali parole sono associate a ciascun argomento.\n",
    "\n",
    "### Stima:\n",
    "\n",
    "LDA utilizza tecniche di stima come Gibbs Sampling o Variational Bayes per inferire le distribuzioni degli argomenti nei documenti e le distribuzioni delle parole negli argomenti."
   ]
  },
  {
   "cell_type": "code",
   "execution_count": 4,
   "id": "d87f391a",
   "metadata": {},
   "outputs": [],
   "source": [
    "doc_term_matrix = 'dataframe of text'\n",
    "#Impostazione del Numero di Argomenti:\n",
    "num_topics = 5\n",
    "#Creazione del Modello LDA:\n",
    "from sklearn.decomposition import LatentDirichletAllocation\n",
    "lda_topic_model = LatentDirichletAllocation(n_components=num_topics, random_state=667)\n",
    "\n",
    "#Addestramento del Modello:\n",
    "#doc_topic_matrix = lda_topic_model.fit_transform(doc_term_matrix)"
   ]
  },
  {
   "cell_type": "markdown",
   "id": "f9b1ad23",
   "metadata": {},
   "source": [
    "Addestri il modello sulla matrice termine-documento (doc_term_matrix). Questo produce una matrice in cui ogni riga rappresenta un documento e ogni colonna rappresenta la probabilità che il documento appartenga a ciascun argomento."
   ]
  },
  {
   "cell_type": "markdown",
   "id": "9cf30754",
   "metadata": {},
   "source": [
    "Creazione di un dataframe per visualizzare le assegnazioni degli argomenti ai documenti, con colonne etichettate come 'Topic 1', 'Topic 2', ecc.Questo processo permette di analizzare e capire meglio le tematiche trattate in un insieme di documenti, facilitando l'esplorazione di grandi collezioni di testi."
   ]
  },
  {
   "cell_type": "code",
   "execution_count": 5,
   "id": "ffd7908c",
   "metadata": {},
   "outputs": [],
   "source": [
    "# col_names = [f'Topic {x}' for x in range(1, num_topics + 1)]\n",
    "# doc_topic_df = pd.DataFrame(doc_topic_matrix, columns=col_names)"
   ]
  },
  {
   "cell_type": "markdown",
   "id": "48685ccc",
   "metadata": {},
   "source": [
    "## Load BBC Data"
   ]
  },
  {
   "cell_type": "code",
   "execution_count": 6,
   "id": "c37f99cf",
   "metadata": {},
   "outputs": [
    {
     "data": {
      "text/html": [
       "<div>\n",
       "<style scoped>\n",
       "    .dataframe tbody tr th:only-of-type {\n",
       "        vertical-align: middle;\n",
       "    }\n",
       "\n",
       "    .dataframe tbody tr th {\n",
       "        vertical-align: top;\n",
       "    }\n",
       "\n",
       "    .dataframe thead th {\n",
       "        text-align: right;\n",
       "    }\n",
       "</style>\n",
       "<table border=\"1\" class=\"dataframe\">\n",
       "  <thead>\n",
       "    <tr style=\"text-align: right;\">\n",
       "      <th></th>\n",
       "      <th>data</th>\n",
       "      <th>labels</th>\n",
       "    </tr>\n",
       "  </thead>\n",
       "  <tbody>\n",
       "    <tr>\n",
       "      <th>0</th>\n",
       "      <td>Musicians to tackle US red tape  Musicians gro...</td>\n",
       "      <td>entertainment</td>\n",
       "    </tr>\n",
       "    <tr>\n",
       "      <th>1</th>\n",
       "      <td>U2s desire to be number one  U2, who have won ...</td>\n",
       "      <td>entertainment</td>\n",
       "    </tr>\n",
       "    <tr>\n",
       "      <th>2</th>\n",
       "      <td>Rocker Doherty in on-stage fight  Rock singer ...</td>\n",
       "      <td>entertainment</td>\n",
       "    </tr>\n",
       "    <tr>\n",
       "      <th>3</th>\n",
       "      <td>Snicket tops US box office chart  The film ada...</td>\n",
       "      <td>entertainment</td>\n",
       "    </tr>\n",
       "    <tr>\n",
       "      <th>4</th>\n",
       "      <td>Oceans Twelve raids box office  Oceans Twelve,...</td>\n",
       "      <td>entertainment</td>\n",
       "    </tr>\n",
       "    <tr>\n",
       "      <th>...</th>\n",
       "      <td>...</td>\n",
       "      <td>...</td>\n",
       "    </tr>\n",
       "    <tr>\n",
       "      <th>2220</th>\n",
       "      <td>Warning over Windows Word files  Writing a Mic...</td>\n",
       "      <td>tech</td>\n",
       "    </tr>\n",
       "    <tr>\n",
       "      <th>2221</th>\n",
       "      <td>Fast lifts rise into record books  Two high-sp...</td>\n",
       "      <td>tech</td>\n",
       "    </tr>\n",
       "    <tr>\n",
       "      <th>2222</th>\n",
       "      <td>Nintendo adds media playing to DS  Nintendo is...</td>\n",
       "      <td>tech</td>\n",
       "    </tr>\n",
       "    <tr>\n",
       "      <th>2223</th>\n",
       "      <td>Fast moving phone viruses appear  Security fir...</td>\n",
       "      <td>tech</td>\n",
       "    </tr>\n",
       "    <tr>\n",
       "      <th>2224</th>\n",
       "      <td>Hacker threat to Apples iTunes  Users of Apple...</td>\n",
       "      <td>tech</td>\n",
       "    </tr>\n",
       "  </tbody>\n",
       "</table>\n",
       "<p>2225 rows × 2 columns</p>\n",
       "</div>"
      ],
      "text/plain": [
       "                                                   data         labels\n",
       "0     Musicians to tackle US red tape  Musicians gro...  entertainment\n",
       "1     U2s desire to be number one  U2, who have won ...  entertainment\n",
       "2     Rocker Doherty in on-stage fight  Rock singer ...  entertainment\n",
       "3     Snicket tops US box office chart  The film ada...  entertainment\n",
       "4     Oceans Twelve raids box office  Oceans Twelve,...  entertainment\n",
       "...                                                 ...            ...\n",
       "2220  Warning over Windows Word files  Writing a Mic...           tech\n",
       "2221  Fast lifts rise into record books  Two high-sp...           tech\n",
       "2222  Nintendo adds media playing to DS  Nintendo is...           tech\n",
       "2223  Fast moving phone viruses appear  Security fir...           tech\n",
       "2224  Hacker threat to Apples iTunes  Users of Apple...           tech\n",
       "\n",
       "[2225 rows x 2 columns]"
      ]
     },
     "execution_count": 6,
     "metadata": {},
     "output_type": "execute_result"
    }
   ],
   "source": [
    "import pandas as pd\n",
    "\n",
    "bbc_data = pd.read_csv(\"bbc_data.csv\")\n",
    "bbc_data"
   ]
  },
  {
   "cell_type": "markdown",
   "id": "ab5c068b",
   "metadata": {},
   "source": [
    "## Tokenize and TF-IDF "
   ]
  },
  {
   "cell_type": "code",
   "execution_count": 7,
   "id": "fdd34fb4",
   "metadata": {},
   "outputs": [
    {
     "name": "stdout",
     "output_type": "stream",
     "text": [
      "Rows: 2225, Columns: 9323\n"
     ]
    }
   ],
   "source": [
    "from sklearn.feature_extraction.text import TfidfVectorizer\n",
    "\n",
    "# Remove stop words and constrain the dimensionality by requiring a term to show up \n",
    "# in at least 5 documents and less than 75% of all documents\n",
    "tfidf_vectorizer = TfidfVectorizer(stop_words = 'english', min_df = 5, max_df = 0.75)\n",
    "\n",
    "# Tokenize and perform the mighty TF-IDF calculation\n",
    "doc_term_matrix = tfidf_vectorizer.fit_transform(bbc_data['data'])\n",
    "\n",
    "# Check out the dimensions\n",
    "print(f'Rows: {doc_term_matrix.shape[0]}, Columns: {doc_term_matrix.shape[1]}')"
   ]
  },
  {
   "cell_type": "markdown",
   "id": "d09e1e89",
   "metadata": {},
   "source": [
    "## Topic Modeling With LDA"
   ]
  },
  {
   "cell_type": "code",
   "execution_count": 9,
   "id": "36911668",
   "metadata": {},
   "outputs": [
    {
     "data": {
      "text/html": [
       "<div>\n",
       "<style scoped>\n",
       "    .dataframe tbody tr th:only-of-type {\n",
       "        vertical-align: middle;\n",
       "    }\n",
       "\n",
       "    .dataframe tbody tr th {\n",
       "        vertical-align: top;\n",
       "    }\n",
       "\n",
       "    .dataframe thead th {\n",
       "        text-align: right;\n",
       "    }\n",
       "</style>\n",
       "<table border=\"1\" class=\"dataframe\">\n",
       "  <thead>\n",
       "    <tr style=\"text-align: right;\">\n",
       "      <th></th>\n",
       "      <th>Topic 1</th>\n",
       "      <th>Topic 2</th>\n",
       "      <th>Topic 3</th>\n",
       "      <th>Topic 4</th>\n",
       "      <th>Topic 5</th>\n",
       "    </tr>\n",
       "  </thead>\n",
       "  <tbody>\n",
       "    <tr>\n",
       "      <th>0</th>\n",
       "      <td>0.908332</td>\n",
       "      <td>0.019527</td>\n",
       "      <td>0.020315</td>\n",
       "      <td>0.019525</td>\n",
       "      <td>0.032301</td>\n",
       "    </tr>\n",
       "    <tr>\n",
       "      <th>1</th>\n",
       "      <td>0.595400</td>\n",
       "      <td>0.012971</td>\n",
       "      <td>0.365403</td>\n",
       "      <td>0.012981</td>\n",
       "      <td>0.013246</td>\n",
       "    </tr>\n",
       "    <tr>\n",
       "      <th>2</th>\n",
       "      <td>0.881240</td>\n",
       "      <td>0.020139</td>\n",
       "      <td>0.058059</td>\n",
       "      <td>0.020141</td>\n",
       "      <td>0.020420</td>\n",
       "    </tr>\n",
       "    <tr>\n",
       "      <th>3</th>\n",
       "      <td>0.805237</td>\n",
       "      <td>0.022365</td>\n",
       "      <td>0.127504</td>\n",
       "      <td>0.022362</td>\n",
       "      <td>0.022532</td>\n",
       "    </tr>\n",
       "    <tr>\n",
       "      <th>4</th>\n",
       "      <td>0.666655</td>\n",
       "      <td>0.020389</td>\n",
       "      <td>0.271930</td>\n",
       "      <td>0.020401</td>\n",
       "      <td>0.020626</td>\n",
       "    </tr>\n",
       "    <tr>\n",
       "      <th>...</th>\n",
       "      <td>...</td>\n",
       "      <td>...</td>\n",
       "      <td>...</td>\n",
       "      <td>...</td>\n",
       "      <td>...</td>\n",
       "    </tr>\n",
       "    <tr>\n",
       "      <th>2220</th>\n",
       "      <td>0.363406</td>\n",
       "      <td>0.019718</td>\n",
       "      <td>0.576899</td>\n",
       "      <td>0.019717</td>\n",
       "      <td>0.020259</td>\n",
       "    </tr>\n",
       "    <tr>\n",
       "      <th>2221</th>\n",
       "      <td>0.243209</td>\n",
       "      <td>0.027099</td>\n",
       "      <td>0.673431</td>\n",
       "      <td>0.027094</td>\n",
       "      <td>0.029167</td>\n",
       "    </tr>\n",
       "    <tr>\n",
       "      <th>2222</th>\n",
       "      <td>0.024999</td>\n",
       "      <td>0.024227</td>\n",
       "      <td>0.901682</td>\n",
       "      <td>0.024226</td>\n",
       "      <td>0.024865</td>\n",
       "    </tr>\n",
       "    <tr>\n",
       "      <th>2223</th>\n",
       "      <td>0.021422</td>\n",
       "      <td>0.020904</td>\n",
       "      <td>0.915623</td>\n",
       "      <td>0.020903</td>\n",
       "      <td>0.021148</td>\n",
       "    </tr>\n",
       "    <tr>\n",
       "      <th>2224</th>\n",
       "      <td>0.028505</td>\n",
       "      <td>0.027825</td>\n",
       "      <td>0.887788</td>\n",
       "      <td>0.027824</td>\n",
       "      <td>0.028057</td>\n",
       "    </tr>\n",
       "  </tbody>\n",
       "</table>\n",
       "<p>2225 rows × 5 columns</p>\n",
       "</div>"
      ],
      "text/plain": [
       "       Topic 1   Topic 2   Topic 3   Topic 4   Topic 5\n",
       "0     0.908332  0.019527  0.020315  0.019525  0.032301\n",
       "1     0.595400  0.012971  0.365403  0.012981  0.013246\n",
       "2     0.881240  0.020139  0.058059  0.020141  0.020420\n",
       "3     0.805237  0.022365  0.127504  0.022362  0.022532\n",
       "4     0.666655  0.020389  0.271930  0.020401  0.020626\n",
       "...        ...       ...       ...       ...       ...\n",
       "2220  0.363406  0.019718  0.576899  0.019717  0.020259\n",
       "2221  0.243209  0.027099  0.673431  0.027094  0.029167\n",
       "2222  0.024999  0.024227  0.901682  0.024226  0.024865\n",
       "2223  0.021422  0.020904  0.915623  0.020903  0.021148\n",
       "2224  0.028505  0.027825  0.887788  0.027824  0.028057\n",
       "\n",
       "[2225 rows x 5 columns]"
      ]
     },
     "execution_count": 9,
     "metadata": {},
     "output_type": "execute_result"
    }
   ],
   "source": [
    "from sklearn.decomposition import LatentDirichletAllocation\n",
    "\n",
    "# Learn X topics from the text documents\n",
    "num_topics = 5\n",
    "\n",
    "lda_topic_model = LatentDirichletAllocation(n_components = num_topics, random_state = 12345)\n",
    "\n",
    "# Train the LDA model and get the document topic assignments\n",
    "doc_topic_matrix = lda_topic_model.fit_transform(doc_term_matrix)\n",
    "\n",
    "# I like pandas DataFrames\n",
    "col_names = [f'Topic {x}' for x in range(1, num_topics + 1)]\n",
    "\n",
    "# Display each document's topic assignments\n",
    "doc_topic_df = pd.DataFrame(doc_topic_matrix, columns = col_names)\n",
    "doc_topic_df"
   ]
  },
  {
   "cell_type": "markdown",
   "id": "ef2623be",
   "metadata": {},
   "source": [
    "## Top Words By Topic"
   ]
  },
  {
   "cell_type": "code",
   "execution_count": 10,
   "id": "6bfd3bb3",
   "metadata": {},
   "outputs": [
    {
     "name": "stdout",
     "output_type": "stream",
     "text": [
      "\n",
      "Topic 01\n",
      "  mr (48.868)\n",
      "  film (32.786)\n",
      "  best (27.183)\n",
      "  year (25.571)\n",
      "  new (24.757)\n",
      "  world (23.683)\n",
      "  time (23.647)\n",
      "  election (23.512)\n",
      "  game (23.211)\n",
      "  people (23.025)\n",
      "\n",
      "Topic 02\n",
      "  blog (3.642)\n",
      "  blogs (3.146)\n",
      "  tindall (1.714)\n",
      "  journals (1.182)\n",
      "  blogger (1.042)\n",
      "  blogging (0.864)\n",
      "  spaces (0.729)\n",
      "  lewsey (0.676)\n",
      "  technorati (0.640)\n",
      "  wembley (0.576)\n",
      "\n",
      "Topic 03\n",
      "  music (21.694)\n",
      "  mobile (18.917)\n",
      "  people (16.674)\n",
      "  technology (15.342)\n",
      "  users (14.424)\n",
      "  digital (14.258)\n",
      "  software (13.051)\n",
      "  phone (12.447)\n",
      "  net (11.816)\n",
      "  online (11.519)\n",
      "\n",
      "Topic 04\n",
      "  seed (7.257)\n",
      "  roddick (5.490)\n",
      "  open (4.951)\n",
      "  australian (4.751)\n",
      "  federer (4.469)\n",
      "  benitez (4.010)\n",
      "  tennis (3.966)\n",
      "  hewitt (3.699)\n",
      "  henman (3.681)\n",
      "  davenport (3.580)\n",
      "\n",
      "Topic 05\n",
      "  economy (17.891)\n",
      "  growth (17.864)\n",
      "  market (14.885)\n",
      "  economic (14.513)\n",
      "  oil (14.462)\n",
      "  bank (14.369)\n",
      "  sales (13.988)\n",
      "  shares (13.856)\n",
      "  year (12.860)\n",
      "  company (12.374)\n"
     ]
    }
   ],
   "source": [
    "# Display the top X words for each topic\n",
    "num_words = 10\n",
    "\n",
    "for topic, words in enumerate(lda_topic_model.components_):\n",
    "    word_total = words.sum()              # Get the total word weight for topic\n",
    "    sorted_words = words.argsort()[::-1]  # Sort in descending order\n",
    "    print(f'\\nTopic {topic + 1:02d}')     # Print the topic\n",
    "    for i in range(0, num_words):         # Print topic's top 10 words\n",
    "        word = tfidf_vectorizer.get_feature_names_out()[sorted_words[i]]\n",
    "        word_weight = words[sorted_words[i]] \n",
    "        print(f'  {word} ({word_weight:.3f})')"
   ]
  },
  {
   "cell_type": "markdown",
   "id": "8dd71da6",
   "metadata": {},
   "source": [
    "## Perplexity by Topic Count\n",
    "\n",
    "a perplessità (perplexity) è una misura comunemente utilizzata per valutare i modelli di argomenti come Latent Dirichlet Allocation (LDA). Essa quantifica quanto bene il modello probabilistico predice una raccolta di dati. Più precisamente, la perplessità misura l'incertezza nel modello: un valore di perplessità più basso indica un modello migliore, in quanto suggerisce che il modello è più in grado di spiegare i dati.\n",
    "\n",
    "Dettagli della Perplessità\n",
    "In termini di LDA, la perplessità è una funzione della probabilità logaritmica per parola e viene calcolata come segue:\n",
    "\n",
    "\n",
    "La perplessità ($($text{perplexity}$)) è definita come:\n",
    "\n",
    "\\[ \\text{perplessità}(D) = \\exp \\left( -\\frac{\\sum_{d \\in D} \\log P(w_d)}{\\sum_{d \\in D} N_d} \\right) \\]\n",
    "\n",
    "Dove:\n",
    "\n",
    "- \\(D\\) è l'insieme dei documenti.\n",
    "- \\(w_d\\) è il vettore delle parole nel documento \\(d\\).\n",
    "- \\(P(w_d)\\) è la probabilità del documento \\(d\\) secondo il modello.\n",
    "- \\(N_d\\) è il numero di parole nel documento \\(d\\).\n",
    "\n",
    "In pratica, la perplessità valuta quanto bene il modello LDA predice le parole nei documenti del set di dati. Un valore di perplessità più basso indica una maggiore capacità del modello di predire correttamente i dati di input."
   ]
  },
  {
   "cell_type": "code",
   "execution_count": 12,
   "id": "b60bc8e5",
   "metadata": {},
   "outputs": [],
   "source": [
    "perplexity = []\n",
    "topic_nums = range(2, 11)\n",
    "\n",
    "# Calulcate the perplexity metric over multiple topic counts\n",
    "for topics in topic_nums:\n",
    "    lda = LatentDirichletAllocation(n_components = topics, random_state = 12345)\n",
    "    lda.fit(doc_topic_matrix)\n",
    "    \n",
    "    perplexity.append(lda.perplexity(doc_topic_matrix))"
   ]
  },
  {
   "cell_type": "markdown",
   "id": "35d38231",
   "metadata": {},
   "source": [
    "## Visualize the Perplexity Scores"
   ]
  },
  {
   "cell_type": "code",
   "execution_count": 13,
   "id": "ce995fdc",
   "metadata": {},
   "outputs": [
    {
     "data": {
      "text/plain": [
       "Text(0, 0.5, 'Perplexity')"
      ]
     },
     "execution_count": 13,
     "metadata": {},
     "output_type": "execute_result"
    },
    {
     "data": {
      "image/png": "[encoded data removed]",
      "text/plain": [
       "<Figure size 640x480 with 1 Axes>"
      ]
     },
     "metadata": {},
     "output_type": "display_data"
    }
   ],
   "source": [
    "import seaborn as sns\n",
    "\n",
    "# Plot perplexity by topic count\n",
    "ax = sns.lineplot(x = topic_nums, y = perplexity, marker = 'o')\n",
    "\n",
    "# Add labels\n",
    "ax.set_title('Perplexity by Topic Count')\n",
    "ax.set_xlabel('Topic Count')\n",
    "ax.set_ylabel('Perplexity')"
   ]
  },
  {
   "cell_type": "markdown",
   "id": "57e3c87f",
   "metadata": {},
   "source": [
    "## Scelta del Numero Ottimale di Argomenti:\n",
    "Utilizzando la perplessità, puoi scegliere un numero di argomenti che bilancia bene la capacità del modello di spiegare i dati senza sovra-adattamento. Un punto di \"ginocchio\" nella curva della perplessità è spesso una buona scelta.\n",
    "\n",
    "In sintesi, la perplessità è una misura utile per valutare e ottimizzare i modelli di argomenti non supervisionati come LDA, aiutandoti a determinare il numero ottimale di argomenti per la tua collezione di documenti."
   ]
  },
  {
   "cell_type": "code",
   "execution_count": null,
   "id": "7d2539c6",
   "metadata": {},
   "outputs": [],
   "source": []
  },
  {
   "cell_type": "code",
   "execution_count": null,
   "id": "4a5938ad",
   "metadata": {},
   "outputs": [],
   "source": []
  }
 ],
 "metadata": {
  "kernelspec": {
   "display_name": "Python 3 (ipykernel)",
   "language": "python",
   "name": "python3"
  },
  "language_info": {
   "codemirror_mode": {
    "name": "ipython",
    "version": 3
   },
   "file_extension": ".py",
   "mimetype": "text/x-python",
   "name": "python",
   "nbconvert_exporter": "python",
   "pygments_lexer": "ipython3",
   "version": "3.11.8"
  }
 },
 "nbformat": 4,
 "nbformat_minor": 5
}
